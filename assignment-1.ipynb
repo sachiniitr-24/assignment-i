{
 "cells": [
  {
   "cell_type": "code",
   "execution_count": 5,
   "id": "fc855530-e136-4172-aafc-56b91f9d77ca",
   "metadata": {},
   "outputs": [
    {
     "name": "stdout",
     "output_type": "stream",
     "text": [
      "abcd\n",
      "<class 'str'>\n"
     ]
    }
   ],
   "source": [
    "#Q1:Create one variable containing following type of data:\n",
    "#i\n",
    "str = \"abcd\"\n",
    "print (str)\n",
    "print (type(str))"
   ]
  },
  {
   "cell_type": "code",
   "execution_count": 6,
   "id": "65d7216d-f235-478b-8b25-b2fb54c7ba84",
   "metadata": {},
   "outputs": [
    {
     "name": "stdout",
     "output_type": "stream",
     "text": [
      "[2, -2, 3.5, 'xyz', False]\n",
      "<class 'list'>\n"
     ]
    }
   ],
   "source": [
    "#1(ii)\n",
    "lst = [2,-2,3.5,\"xyz\",False]\n",
    "print (lst)\n",
    "print (type(lst))"
   ]
  },
  {
   "cell_type": "code",
   "execution_count": 7,
   "id": "06272037-6719-434f-9c43-58f8effe6b79",
   "metadata": {},
   "outputs": [
    {
     "name": "stdin",
     "output_type": "stream",
     "text": [
      "Enter a no: 2.4\n"
     ]
    },
    {
     "name": "stdout",
     "output_type": "stream",
     "text": [
      "2.4\n",
      "<class 'float'>\n"
     ]
    }
   ],
   "source": [
    "#1(iii)\n",
    "num = float(input(\"Enter a no:\"))\n",
    "print (num)\n",
    "print (type(num))"
   ]
  },
  {
   "cell_type": "code",
   "execution_count": 8,
   "id": "fdc427c4-63e1-4e1a-91c5-40ad11d65cb6",
   "metadata": {},
   "outputs": [
    {
     "name": "stdout",
     "output_type": "stream",
     "text": [
      "(1, 2, 'pqrs', ' ')\n",
      "<class 'tuple'>\n"
     ]
    }
   ],
   "source": [
    "#1(iv)\n",
    "tup = (1,2,'pqrs',\" \")\n",
    "print (tup)\n",
    "print (type(tup))"
   ]
  },
  {
   "cell_type": "code",
   "execution_count": 9,
   "id": "ad65bc13-4f90-4772-956c-3b58e367b6b7",
   "metadata": {},
   "outputs": [
    {
     "name": "stdout",
     "output_type": "stream",
     "text": [
      "<class 'str'>\n"
     ]
    }
   ],
   "source": [
    "#Q2. Given are some following variables containing data:\n",
    "#(i)\n",
    "var1 = ''\n",
    "#It is a string\n",
    "print (type(var1))"
   ]
  },
  {
   "cell_type": "code",
   "execution_count": 10,
   "id": "58c83218-11fe-4173-a802-7ddf1c58ddad",
   "metadata": {},
   "outputs": [
    {
     "name": "stdout",
     "output_type": "stream",
     "text": [
      "<class 'str'>\n"
     ]
    }
   ],
   "source": [
    "#2(ii)\n",
    "var2 = '[DS,ML,Python]'\n",
    "#It is a string due to quote \n",
    "print (type (var2))"
   ]
  },
  {
   "cell_type": "code",
   "execution_count": 11,
   "id": "8aa704f0-2acc-4e42-8770-b364d47de848",
   "metadata": {},
   "outputs": [
    {
     "name": "stdout",
     "output_type": "stream",
     "text": [
      "<class 'list'>\n"
     ]
    }
   ],
   "source": [
    "#2(iii)\n",
    "var3=['DS','ML','Python']\n",
    "#It is a list\n",
    "print (type(var3))"
   ]
  },
  {
   "cell_type": "code",
   "execution_count": 20,
   "id": "6145efe6-0e97-4440-88a2-6dbe679569db",
   "metadata": {},
   "outputs": [
    {
     "name": "stdout",
     "output_type": "stream",
     "text": [
      "<class 'float'>\n"
     ]
    }
   ],
   "source": [
    "#2(iv)\n",
    "var4= 1.\n",
    "#It is a float\n",
    "print (type(var4))"
   ]
  },
  {
   "cell_type": "code",
   "execution_count": 21,
   "id": "c050c932-9f9a-40ae-9797-eef9ed1ef950",
   "metadata": {},
   "outputs": [
    {
     "data": {
      "text/plain": [
       "2.0"
      ]
     },
     "execution_count": 21,
     "metadata": {},
     "output_type": "execute_result"
    }
   ],
   "source": [
    "#Q3: Explain the use of the following operators using an example:\n",
    "#(i)\n",
    "#'/'-is for division\n",
    "10/5"
   ]
  },
  {
   "cell_type": "code",
   "execution_count": 22,
   "id": "6c439238-5c28-4b26-b157-bad900433751",
   "metadata": {},
   "outputs": [
    {
     "data": {
      "text/plain": [
       "0"
      ]
     },
     "execution_count": 22,
     "metadata": {},
     "output_type": "execute_result"
    }
   ],
   "source": [
    "#3(ii)\n",
    "#'%' - is for remainder\n",
    "15%3"
   ]
  },
  {
   "cell_type": "code",
   "execution_count": 23,
   "id": "69daa452-51f1-434f-a0a8-927c3dbbbffe",
   "metadata": {},
   "outputs": [
    {
     "data": {
      "text/plain": [
       "5"
      ]
     },
     "execution_count": 23,
     "metadata": {},
     "output_type": "execute_result"
    }
   ],
   "source": [
    "#3(iii)\n",
    "#'//'- is for floor division, gives quotient\n",
    "10//2"
   ]
  },
  {
   "cell_type": "code",
   "execution_count": 24,
   "id": "f1dddf05-122c-4e0a-b738-f882f324727a",
   "metadata": {},
   "outputs": [
    {
     "data": {
      "text/plain": [
       "8"
      ]
     },
     "execution_count": 24,
     "metadata": {},
     "output_type": "execute_result"
    }
   ],
   "source": [
    "#3(iv)\n",
    "#'**'- is for power function\n",
    "2**3"
   ]
  },
  {
   "cell_type": "code",
   "execution_count": 36,
   "id": "c34d4b33-b806-4bb7-bd2d-6c38043e21dd",
   "metadata": {},
   "outputs": [
    {
     "name": "stdout",
     "output_type": "stream",
     "text": [
      "<class 'int'>\n",
      "<class 'int'>\n",
      "<class 'float'>\n",
      "<class 'str'>\n",
      "<class 'str'>\n",
      "<class 'bool'>\n",
      "<class 'tuple'>\n",
      "<class 'str'>\n",
      "<class 'complex'>\n",
      "<class 'set'>\n",
      "<class 'dict'>\n",
      "<class 'range'>\n",
      "<class 'str'>\n"
     ]
    }
   ],
   "source": [
    "#Q4. Create a list of length 10 of your choice containing multiple types of data. Using for loop print the element and its data type.\n",
    "L1 = [1,-3,2.5,\"\",'mnop',True,(1,'def'),bin(10),3+4j,{False},{'a':1,'b':2},range(5)]\n",
    "for i in L1:\n",
    "    print (type(i))"
   ]
  },
  {
   "cell_type": "code",
   "execution_count": 4,
   "id": "b57a1116-b44e-4e2d-aca1-51f693317ade",
   "metadata": {},
   "outputs": [
    {
     "name": "stdin",
     "output_type": "stream",
     "text": [
      "Ernte a no A: 20\n",
      "Ernte a no B: 4\n"
     ]
    },
    {
     "name": "stdout",
     "output_type": "stream",
     "text": [
      "5.0 is divisible by 4 through 1 times\n"
     ]
    }
   ],
   "source": [
    "#Q5. Using a while loop, verify if the number A is purely divisible by number B and if so then how many times it can be divisible.\n",
    "A = int (input('Ernte a no A:'))\n",
    "B = int (input('Ernte a no B:'))\n",
    "count = 0\n",
    "while A%B == 0:\n",
    "    count += 1\n",
    "    A /= B\n",
    "if count > 0:\n",
    "    print (A, 'is divisible by',B,'through',count, 'times')\n",
    "else:\n",
    "    print (A, 'is not divisible by', B)  "
   ]
  },
  {
   "cell_type": "code",
   "execution_count": 12,
   "id": "ab5872bc-e839-479c-9bdf-67637748d7de",
   "metadata": {},
   "outputs": [
    {
     "name": "stdout",
     "output_type": "stream",
     "text": [
      "[0] is divisible by 3\n",
      "[1] is not divisible by 3\n",
      "[2] is not divisible by 3\n",
      "[3] is divisible by 3\n",
      "[4] is not divisible by 3\n",
      "[5] is not divisible by 3\n",
      "[6] is divisible by 3\n",
      "[7] is not divisible by 3\n",
      "[8] is not divisible by 3\n",
      "[9] is divisible by 3\n",
      "[10] is not divisible by 3\n",
      "[11] is not divisible by 3\n",
      "[12] is divisible by 3\n",
      "[13] is not divisible by 3\n",
      "[14] is not divisible by 3\n",
      "[15] is divisible by 3\n",
      "[16] is not divisible by 3\n",
      "[17] is not divisible by 3\n",
      "[18] is divisible by 3\n",
      "[19] is not divisible by 3\n",
      "[20] is not divisible by 3\n",
      "[21] is divisible by 3\n",
      "[22] is not divisible by 3\n",
      "[23] is not divisible by 3\n",
      "[24] is divisible by 3\n",
      "[25] is not divisible by 3\n"
     ]
    }
   ],
   "source": [
    "#Q6. Create a list containing 25 int type data. Using for loop and if-else condition print if the element is divisible by 3 or not.\n",
    "L = list(range(26))\n",
    "for i in L:\n",
    "    if i % 3 == 0:\n",
    "        print ([i], 'is divisible by 3')\n",
    "    else:\n",
    "        print ([i], 'is not divisible by 3')\n",
    "    "
   ]
  },
  {
   "cell_type": "code",
   "execution_count": null,
   "id": "d34a3487-9bc7-4996-956e-2e4ec4dfd1b9",
   "metadata": {},
   "outputs": [],
   "source": [
    "#Q7. What do you understand about mutable and immutable data types? Give examples for both showing this property.\n",
    "Mutable data types are those whose values can be changed within that particular data type , e.g- List, Dict.\n",
    "Immutable data types are those whose values can not be changed within it, e.g - str, tuples, range."
   ]
  },
  {
   "cell_type": "code",
   "execution_count": 25,
   "id": "13613658-641c-4dee-848b-c1ecb811642a",
   "metadata": {},
   "outputs": [
    {
     "name": "stdout",
     "output_type": "stream",
     "text": [
      "[0, 1, 2, 3, 4]\n",
      "[0, 1, 2, 3, 5]\n"
     ]
    }
   ],
   "source": [
    "L = list(range(5))\n",
    "print (L)\n",
    "L[4]= (5)\n",
    "print (L)"
   ]
  },
  {
   "cell_type": "code",
   "execution_count": 31,
   "id": "aeb907eb-d6a0-4a6f-95c1-e5dc8db641c2",
   "metadata": {},
   "outputs": [
    {
     "name": "stdout",
     "output_type": "stream",
     "text": [
      "abcde\n"
     ]
    },
    {
     "ename": "TypeError",
     "evalue": "'str' object does not support item assignment",
     "output_type": "error",
     "traceback": [
      "\u001b[0;31m---------------------------------------------------------------------------\u001b[0m",
      "\u001b[0;31mTypeError\u001b[0m                                 Traceback (most recent call last)",
      "Cell \u001b[0;32mIn[31], line 3\u001b[0m\n\u001b[1;32m      1\u001b[0m S \u001b[38;5;241m=\u001b[39m \u001b[38;5;124m'\u001b[39m\u001b[38;5;124mabcde\u001b[39m\u001b[38;5;124m'\u001b[39m\n\u001b[1;32m      2\u001b[0m \u001b[38;5;28mprint\u001b[39m (S)\n\u001b[0;32m----> 3\u001b[0m \u001b[43mS\u001b[49m\u001b[43m[\u001b[49m\u001b[38;5;241;43m4\u001b[39;49m\u001b[43m]\u001b[49m \u001b[38;5;241m=\u001b[39m \u001b[38;5;124m'\u001b[39m\u001b[38;5;124mf\u001b[39m\u001b[38;5;124m'\u001b[39m\n\u001b[1;32m      4\u001b[0m \u001b[38;5;28mprint\u001b[39m (S)  \u001b[38;5;66;03m#It will show error\u001b[39;00m\n",
      "\u001b[0;31mTypeError\u001b[0m: 'str' object does not support item assignment"
     ]
    }
   ],
   "source": [
    "S = 'abcde'\n",
    "print (S)\n",
    "S[4] = 'f'\n",
    "print (S)  #It will show error"
   ]
  },
  {
   "cell_type": "code",
   "execution_count": null,
   "id": "0ed1bdb7-1268-4acc-8ee5-6e921b879e43",
   "metadata": {},
   "outputs": [],
   "source": []
  }
 ],
 "metadata": {
  "kernelspec": {
   "display_name": "Python 3 (ipykernel)",
   "language": "python",
   "name": "python3"
  },
  "language_info": {
   "codemirror_mode": {
    "name": "ipython",
    "version": 3
   },
   "file_extension": ".py",
   "mimetype": "text/x-python",
   "name": "python",
   "nbconvert_exporter": "python",
   "pygments_lexer": "ipython3",
   "version": "3.10.8"
  }
 },
 "nbformat": 4,
 "nbformat_minor": 5
}
